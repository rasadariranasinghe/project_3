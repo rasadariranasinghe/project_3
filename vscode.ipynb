{
 "cells": [
  {
   "cell_type": "code",
   "execution_count": 1,
   "id": "9a52882f",
   "metadata": {},
   "outputs": [],
   "source": [
    "# Import dependencies\n",
    "from pymongo import MongoClient\n",
    "from pprint import pprint\n",
    "import pandas as pd\n",
    "import matplotlib.pyplot as plt\n",
    "import folium\n"
   ]
  },
  {
   "cell_type": "code",
   "execution_count": 2,
   "id": "17a98793",
   "metadata": {},
   "outputs": [],
   "source": [
    "# Create an instance of MongoClient\n",
    "mongo = MongoClient(port=27017)"
   ]
  },
  {
   "cell_type": "code",
   "execution_count": 3,
   "id": "a543c86f",
   "metadata": {},
   "outputs": [],
   "source": [
    "# assign the COVID_and_Crime_Toronto database to a variable name\n",
    "db = mongo['COVID_and_Crime_Toronto']"
   ]
  },
  {
   "cell_type": "code",
   "execution_count": 4,
   "id": "e6071050",
   "metadata": {},
   "outputs": [],
   "source": [
    "# assign the collection to a variable\n",
    "covid_cases = db['COVID_Cases']"
   ]
  },
  {
   "cell_type": "code",
   "execution_count": 5,
   "id": "5c3ce5a3",
   "metadata": {},
   "outputs": [],
   "source": [
    "census_tract_boundaries = db['Census_Tract_Boundaries']"
   ]
  },
  {
   "cell_type": "code",
   "execution_count": 6,
   "id": "be5052c8",
   "metadata": {},
   "outputs": [],
   "source": [
    "crime_data = db['Crime_Data']"
   ]
  },
  {
   "cell_type": "code",
   "execution_count": 7,
   "id": "91669efd",
   "metadata": {},
   "outputs": [
    {
     "name": "stdout",
     "output_type": "stream",
     "text": [
      "{'Age Group': '50 to 59 Years',\n",
      " 'Assigned_ID': 1,\n",
      " 'Classification': 'CONFIRMED',\n",
      " 'Client Gender': 'FEMALE',\n",
      " 'Episode Date': '2020-01-22',\n",
      " 'Ever Hospitalized': 'No',\n",
      " 'Ever Intubated': 'No',\n",
      " 'Ever in ICU': 'No',\n",
      " 'FSA': 'M2N',\n",
      " 'Neighbourhood Name': 'Willowdale East',\n",
      " 'Outbreak Associated': 'NO',\n",
      " 'Outcome': 'RESOLVED',\n",
      " 'Reported Date': '2020-01-23',\n",
      " 'Source of Infection': 'Travel',\n",
      " '_id': 1}\n",
      "{'_id': ObjectId('66c523684f40085c44dcb9bd'),\n",
      " 'geometry': {'coordinates': [[[[-79.5029569066111, 43.6957370912699],\n",
      "                                [-79.5041510283652, 43.6963525802959],\n",
      "                                [-79.5021928156238, 43.6967631023826],\n",
      "                                [-79.5023795727011, 43.6975937194396],\n",
      "                                [-79.5048864370634, 43.6970233182125],\n",
      "                                [-79.5049436531798, 43.6970102908891],\n",
      "                                [-79.5053547971446, 43.6969167129842],\n",
      "                                [-79.5082464525658, 43.6983412735942],\n",
      "                                [-79.5075317131046, 43.6984978012678],\n",
      "                                [-79.5064116841267, 43.6987430825866],\n",
      "                                [-79.5059432492727, 43.6988456685408],\n",
      "                                [-79.5055428489779, 43.6989333431674],\n",
      "                                [-79.5048204655332, 43.6990914924761],\n",
      "                                [-79.5028939689785, 43.6995533503544],\n",
      "                                [-79.5032479020991, 43.7008480853279],\n",
      "                                [-79.5034551892623, 43.7015720792813],\n",
      "                                [-79.5036419588081, 43.7022790880082],\n",
      "                                [-79.503838440834, 43.7028780716764],\n",
      "                                [-79.5036873586775, 43.7029154859625],\n",
      "                                [-79.5035845525319, 43.7029376683822],\n",
      "                                [-79.5034159863725, 43.7029452526202],\n",
      "                                [-79.5032235737536, 43.7029633417763],\n",
      "                                [-79.5030686313122, 43.7029813305947],\n",
      "                                [-79.5029115550726, 43.7030068623283],\n",
      "                                [-79.5027075417739, 43.7030378587433],\n",
      "                                [-79.5019983896281, 43.7031863494207],\n",
      "                                [-79.5000522108194, 43.7036146296581],\n",
      "                                [-79.4988090715134, 43.7039000989638],\n",
      "                                [-79.4977349639083, 43.704134511972],\n",
      "                                [-79.4966824250484, 43.7043656930487],\n",
      "                                [-79.4961406350513, 43.7045079952125],\n",
      "                                [-79.4956029385467, 43.704629700044],\n",
      "                                [-79.4940966714999, 43.7049502486021],\n",
      "                                [-79.49344791209, 43.7051167188392],\n",
      "                                [-79.4930740934244, 43.7051875458338],\n",
      "                                [-79.4918705457889, 43.7054608172761],\n",
      "                                [-79.4917296128623, 43.7054903223441],\n",
      "                                [-79.490231605341, 43.7058060408427],\n",
      "                                [-79.4876676307908, 43.7063743854014],\n",
      "                                [-79.4824368496953, 43.707537835862],\n",
      "                                [-79.4790434595161, 43.708318934409],\n",
      "                                [-79.4789314769702, 43.7083428662021],\n",
      "                                [-79.4788005737346, 43.7083953284025],\n",
      "                                [-79.4786924431265, 43.70843864941],\n",
      "                                [-79.4785488343863, 43.7084876434633],\n",
      "                                [-79.4784234316909, 43.7085283686073],\n",
      "                                [-79.4783197696597, 43.7085661003164],\n",
      "                                [-79.4780621840989, 43.7086593223218],\n",
      "                                [-79.4779014498901, 43.7087775230293],\n",
      "                                [-79.4774593025062, 43.7089561478854],\n",
      "                                [-79.4771391849325, 43.7090870077623],\n",
      "                                [-79.4768886176872, 43.7091826408579],\n",
      "                                [-79.4766090546455, 43.7092677539914],\n",
      "                                [-79.4763643668943, 43.7093334219164],\n",
      "                                [-79.4760531546105, 43.7094013977264],\n",
      "                                [-79.475749782683, 43.7094724797894],\n",
      "                                [-79.4745602009016, 43.7097242117141],\n",
      "                                [-79.4733822268203, 43.7099972129464],\n",
      "                                [-79.4719090691781, 43.7103025074202],\n",
      "                                [-79.470947525568, 43.7105147779706],\n",
      "                                [-79.4697772296536, 43.7108043873044],\n",
      "                                [-79.4693521361046, 43.708682837413],\n",
      "                                [-79.4688771939367, 43.7062934477229],\n",
      "                                [-79.4688363649464, 43.7060903408757],\n",
      "                                [-79.4687918134682, 43.7058879440911],\n",
      "                                [-79.4687463936962, 43.7056856190547],\n",
      "                                [-79.4687002173102, 43.7054833657961],\n",
      "                                [-79.4686532718581, 43.7052812833249],\n",
      "                                [-79.468605619485, 43.7050791826306],\n",
      "                                [-79.4685570987794, 43.7048772886998],\n",
      "                                [-79.4685187047382, 43.7047197018081],\n",
      "                                [-79.4685079207705, 43.7046754305652],\n",
      "                                [-79.4684577752726, 43.7044736081405],\n",
      "                                [-79.4684069972357, 43.7042719475347],\n",
      "                                [-79.4683553633099, 43.7040704846904],\n",
      "                                [-79.4683029728633, 43.7038690306072],\n",
      "                                [-79.4682498506426, 43.7036677293112],\n",
      "                                [-79.4681958478267, 43.7034664637436],\n",
      "                                [-79.4681411132518, 43.7032653509612],\n",
      "                                [-79.4680856220957, 43.7030644179597],\n",
      "                                [-79.4680292751927, 43.7028635026875],\n",
      "                                [-79.4679722833845, 43.7026627762265],\n",
      "                                [-79.4679144358208, 43.7024621124988],\n",
      "                                [-79.467855707628, 43.702261637514],\n",
      "                                [-79.4671024031239, 43.6996734738175],\n",
      "                                [-79.4688023696011, 43.6992661832771],\n",
      "                                [-79.4746033769271, 43.6978656061747],\n",
      "                                [-79.4755540586569, 43.6976893252209],\n",
      "                                [-79.480435901416, 43.6966086343187],\n",
      "                                [-79.4835147718036, 43.6959055790823],\n",
      "                                [-79.4854625952544, 43.6954679936643],\n",
      "                                [-79.4865519464837, 43.6952686674257],\n",
      "                                [-79.4873347673975, 43.6951367259141],\n",
      "                                [-79.4877357132754, 43.6950565861387],\n",
      "                                [-79.4898109076005, 43.6946301377601],\n",
      "                                [-79.4938407238424, 43.6937977524142],\n",
      "                                [-79.4976441672413, 43.6929849422726],\n",
      "                                [-79.5000651168913, 43.6942361822584],\n",
      "                                [-79.5017831543911, 43.6951099867234],\n",
      "                                [-79.5029569066111, 43.6957370912699]]]],\n",
      "              'type': 'MultiPolygon'},\n",
      " 'properties': {'AREA_ATTR_ID': 26022481,\n",
      "                'AREA_DESC': 'Brookhaven-Amesbury (30)',\n",
      "                'AREA_ID': 2501286,\n",
      "                'AREA_LONG_CODE': '030',\n",
      "                'AREA_NAME': 'Brookhaven-Amesbury (30)',\n",
      "                'AREA_SHORT_CODE': '030',\n",
      "                'CLASSIFICATION': 'Not an NIA or Emerging Neighbourhood',\n",
      "                'CLASSIFICATION_CODE': 'NA',\n",
      "                'OBJECTID': 17818369,\n",
      "                'PARENT_AREA_ID': 0,\n",
      "                '_id': 1},\n",
      " 'type': 'Feature'}\n",
      "{'_id': ObjectId('66c524f0c3c751d1e06725c4'),\n",
      " 'geometry': {'coordinates': [-79.382088247, 43.659098198], 'type': 'Point'},\n",
      " 'id': 98878,\n",
      " 'properties': {'EVENT_UNIQUE_ID': 'GO-2017602',\n",
      "                'HOOD_140': '075',\n",
      "                'LOCATION_TYPE': 'Streets, Roads, Highways (Bicycle Path, '\n",
      "                                 'Private Road)',\n",
      "                'MCI_CATEGORY': 'Assault',\n",
      "                'OBJECTID': 98878,\n",
      "                'OCC_DATE': 1483246800000.0,\n",
      "                'OCC_DAY': 1,\n",
      "                'OCC_DOW': 'Sunday    ',\n",
      "                'OCC_DOY': 1,\n",
      "                'OCC_HOUR': 1,\n",
      "                'OCC_MONTH': 'January',\n",
      "                'OCC_YEAR': 2017,\n",
      "                'PREMISES_TYPE': 'Outside'},\n",
      " 'type': 'Feature'}\n"
     ]
    }
   ],
   "source": [
    "# Inspecting the data\n",
    "pprint(covid_cases.find_one())\n",
    "pprint(census_tract_boundaries.find_one())\n",
    "pprint(crime_data.find_one())\n"
   ]
  },
  {
   "cell_type": "code",
   "execution_count": 8,
   "id": "f136a896",
   "metadata": {},
   "outputs": [],
   "source": [
    "# Converting to Pandas DataFrame\n",
    "covid_df = pd.DataFrame(list(covid_cases.find()))\n",
    "census_df = pd.DataFrame(list(census_tract_boundaries.find()))\n",
    "crime_df = pd.DataFrame(list(crime_data.find()))"
   ]
  },
  {
   "cell_type": "code",
   "execution_count": 9,
   "id": "59260cf9",
   "metadata": {},
   "outputs": [
    {
     "data": {
      "text/html": [
       "<div>\n",
       "<style scoped>\n",
       "    .dataframe tbody tr th:only-of-type {\n",
       "        vertical-align: middle;\n",
       "    }\n",
       "\n",
       "    .dataframe tbody tr th {\n",
       "        vertical-align: top;\n",
       "    }\n",
       "\n",
       "    .dataframe thead th {\n",
       "        text-align: right;\n",
       "    }\n",
       "</style>\n",
       "<table border=\"1\" class=\"dataframe\">\n",
       "  <thead>\n",
       "    <tr style=\"text-align: right;\">\n",
       "      <th></th>\n",
       "      <th>_id</th>\n",
       "      <th>Assigned_ID</th>\n",
       "      <th>Outbreak Associated</th>\n",
       "      <th>Age Group</th>\n",
       "      <th>Neighbourhood Name</th>\n",
       "      <th>FSA</th>\n",
       "      <th>Source of Infection</th>\n",
       "      <th>Classification</th>\n",
       "      <th>Episode Date</th>\n",
       "      <th>Reported Date</th>\n",
       "      <th>Client Gender</th>\n",
       "      <th>Outcome</th>\n",
       "      <th>Ever Hospitalized</th>\n",
       "      <th>Ever in ICU</th>\n",
       "      <th>Ever Intubated</th>\n",
       "    </tr>\n",
       "  </thead>\n",
       "  <tbody>\n",
       "    <tr>\n",
       "      <th>0</th>\n",
       "      <td>1</td>\n",
       "      <td>1</td>\n",
       "      <td>NO</td>\n",
       "      <td>50 to 59 Years</td>\n",
       "      <td>Willowdale East</td>\n",
       "      <td>M2N</td>\n",
       "      <td>Travel</td>\n",
       "      <td>CONFIRMED</td>\n",
       "      <td>2020-01-22</td>\n",
       "      <td>2020-01-23</td>\n",
       "      <td>FEMALE</td>\n",
       "      <td>RESOLVED</td>\n",
       "      <td>No</td>\n",
       "      <td>No</td>\n",
       "      <td>No</td>\n",
       "    </tr>\n",
       "    <tr>\n",
       "      <th>1</th>\n",
       "      <td>2</td>\n",
       "      <td>2</td>\n",
       "      <td>NO</td>\n",
       "      <td>50 to 59 Years</td>\n",
       "      <td>Willowdale East</td>\n",
       "      <td>M2N</td>\n",
       "      <td>Travel</td>\n",
       "      <td>CONFIRMED</td>\n",
       "      <td>2020-01-21</td>\n",
       "      <td>2020-01-23</td>\n",
       "      <td>MALE</td>\n",
       "      <td>RESOLVED</td>\n",
       "      <td>Yes</td>\n",
       "      <td>No</td>\n",
       "      <td>No</td>\n",
       "    </tr>\n",
       "    <tr>\n",
       "      <th>2</th>\n",
       "      <td>3</td>\n",
       "      <td>3</td>\n",
       "      <td>NO</td>\n",
       "      <td>20 to 29 Years</td>\n",
       "      <td>Parkwoods-Donalda</td>\n",
       "      <td>M3A</td>\n",
       "      <td>Travel</td>\n",
       "      <td>CONFIRMED</td>\n",
       "      <td>2020-02-05</td>\n",
       "      <td>2020-02-21</td>\n",
       "      <td>FEMALE</td>\n",
       "      <td>RESOLVED</td>\n",
       "      <td>No</td>\n",
       "      <td>No</td>\n",
       "      <td>No</td>\n",
       "    </tr>\n",
       "    <tr>\n",
       "      <th>3</th>\n",
       "      <td>4</td>\n",
       "      <td>4</td>\n",
       "      <td>NO</td>\n",
       "      <td>60 to 69 Years</td>\n",
       "      <td>Church-Yonge Corridor</td>\n",
       "      <td>M4W</td>\n",
       "      <td>Travel</td>\n",
       "      <td>CONFIRMED</td>\n",
       "      <td>2020-02-16</td>\n",
       "      <td>2020-02-25</td>\n",
       "      <td>FEMALE</td>\n",
       "      <td>RESOLVED</td>\n",
       "      <td>No</td>\n",
       "      <td>No</td>\n",
       "      <td>No</td>\n",
       "    </tr>\n",
       "    <tr>\n",
       "      <th>4</th>\n",
       "      <td>5</td>\n",
       "      <td>5</td>\n",
       "      <td>NO</td>\n",
       "      <td>60 to 69 Years</td>\n",
       "      <td>Church-Yonge Corridor</td>\n",
       "      <td>M4W</td>\n",
       "      <td>Travel</td>\n",
       "      <td>CONFIRMED</td>\n",
       "      <td>2020-02-20</td>\n",
       "      <td>2020-02-26</td>\n",
       "      <td>MALE</td>\n",
       "      <td>RESOLVED</td>\n",
       "      <td>No</td>\n",
       "      <td>No</td>\n",
       "      <td>No</td>\n",
       "    </tr>\n",
       "  </tbody>\n",
       "</table>\n",
       "</div>"
      ],
      "text/plain": [
       "   _id  Assigned_ID Outbreak Associated       Age Group  \\\n",
       "0    1            1                  NO  50 to 59 Years   \n",
       "1    2            2                  NO  50 to 59 Years   \n",
       "2    3            3                  NO  20 to 29 Years   \n",
       "3    4            4                  NO  60 to 69 Years   \n",
       "4    5            5                  NO  60 to 69 Years   \n",
       "\n",
       "      Neighbourhood Name  FSA Source of Infection Classification Episode Date  \\\n",
       "0        Willowdale East  M2N              Travel      CONFIRMED   2020-01-22   \n",
       "1        Willowdale East  M2N              Travel      CONFIRMED   2020-01-21   \n",
       "2      Parkwoods-Donalda  M3A              Travel      CONFIRMED   2020-02-05   \n",
       "3  Church-Yonge Corridor  M4W              Travel      CONFIRMED   2020-02-16   \n",
       "4  Church-Yonge Corridor  M4W              Travel      CONFIRMED   2020-02-20   \n",
       "\n",
       "  Reported Date Client Gender   Outcome Ever Hospitalized Ever in ICU  \\\n",
       "0    2020-01-23        FEMALE  RESOLVED                No          No   \n",
       "1    2020-01-23          MALE  RESOLVED               Yes          No   \n",
       "2    2020-02-21        FEMALE  RESOLVED                No          No   \n",
       "3    2020-02-25        FEMALE  RESOLVED                No          No   \n",
       "4    2020-02-26          MALE  RESOLVED                No          No   \n",
       "\n",
       "  Ever Intubated  \n",
       "0             No  \n",
       "1             No  \n",
       "2             No  \n",
       "3             No  \n",
       "4             No  "
      ]
     },
     "execution_count": 9,
     "metadata": {},
     "output_type": "execute_result"
    }
   ],
   "source": [
    "covid_df.head()"
   ]
  },
  {
   "cell_type": "code",
   "execution_count": 10,
   "id": "fe0a3f97",
   "metadata": {},
   "outputs": [
    {
     "data": {
      "text/html": [
       "<div>\n",
       "<style scoped>\n",
       "    .dataframe tbody tr th:only-of-type {\n",
       "        vertical-align: middle;\n",
       "    }\n",
       "\n",
       "    .dataframe tbody tr th {\n",
       "        vertical-align: top;\n",
       "    }\n",
       "\n",
       "    .dataframe thead th {\n",
       "        text-align: right;\n",
       "    }\n",
       "</style>\n",
       "<table border=\"1\" class=\"dataframe\">\n",
       "  <thead>\n",
       "    <tr style=\"text-align: right;\">\n",
       "      <th></th>\n",
       "      <th>_id</th>\n",
       "      <th>type</th>\n",
       "      <th>properties</th>\n",
       "      <th>geometry</th>\n",
       "    </tr>\n",
       "  </thead>\n",
       "  <tbody>\n",
       "    <tr>\n",
       "      <th>0</th>\n",
       "      <td>66c523684f40085c44dcb9bd</td>\n",
       "      <td>Feature</td>\n",
       "      <td>{'_id': 1, 'AREA_ID': 2501286, 'AREA_ATTR_ID':...</td>\n",
       "      <td>{'type': 'MultiPolygon', 'coordinates': [[[[-7...</td>\n",
       "    </tr>\n",
       "    <tr>\n",
       "      <th>1</th>\n",
       "      <td>66c523684f40085c44dcb9be</td>\n",
       "      <td>Feature</td>\n",
       "      <td>{'_id': 2, 'AREA_ID': 2501285, 'AREA_ATTR_ID':...</td>\n",
       "      <td>{'type': 'MultiPolygon', 'coordinates': [[[[-7...</td>\n",
       "    </tr>\n",
       "    <tr>\n",
       "      <th>2</th>\n",
       "      <td>66c523684f40085c44dcb9bf</td>\n",
       "      <td>Feature</td>\n",
       "      <td>{'_id': 3, 'AREA_ID': 2501284, 'AREA_ATTR_ID':...</td>\n",
       "      <td>{'type': 'MultiPolygon', 'coordinates': [[[[-7...</td>\n",
       "    </tr>\n",
       "    <tr>\n",
       "      <th>3</th>\n",
       "      <td>66c523684f40085c44dcb9c0</td>\n",
       "      <td>Feature</td>\n",
       "      <td>{'_id': 4, 'AREA_ID': 2501283, 'AREA_ATTR_ID':...</td>\n",
       "      <td>{'type': 'MultiPolygon', 'coordinates': [[[[-7...</td>\n",
       "    </tr>\n",
       "    <tr>\n",
       "      <th>4</th>\n",
       "      <td>66c523684f40085c44dcb9c1</td>\n",
       "      <td>Feature</td>\n",
       "      <td>{'_id': 5, 'AREA_ID': 2501282, 'AREA_ATTR_ID':...</td>\n",
       "      <td>{'type': 'MultiPolygon', 'coordinates': [[[[-7...</td>\n",
       "    </tr>\n",
       "  </tbody>\n",
       "</table>\n",
       "</div>"
      ],
      "text/plain": [
       "                        _id     type  \\\n",
       "0  66c523684f40085c44dcb9bd  Feature   \n",
       "1  66c523684f40085c44dcb9be  Feature   \n",
       "2  66c523684f40085c44dcb9bf  Feature   \n",
       "3  66c523684f40085c44dcb9c0  Feature   \n",
       "4  66c523684f40085c44dcb9c1  Feature   \n",
       "\n",
       "                                          properties  \\\n",
       "0  {'_id': 1, 'AREA_ID': 2501286, 'AREA_ATTR_ID':...   \n",
       "1  {'_id': 2, 'AREA_ID': 2501285, 'AREA_ATTR_ID':...   \n",
       "2  {'_id': 3, 'AREA_ID': 2501284, 'AREA_ATTR_ID':...   \n",
       "3  {'_id': 4, 'AREA_ID': 2501283, 'AREA_ATTR_ID':...   \n",
       "4  {'_id': 5, 'AREA_ID': 2501282, 'AREA_ATTR_ID':...   \n",
       "\n",
       "                                            geometry  \n",
       "0  {'type': 'MultiPolygon', 'coordinates': [[[[-7...  \n",
       "1  {'type': 'MultiPolygon', 'coordinates': [[[[-7...  \n",
       "2  {'type': 'MultiPolygon', 'coordinates': [[[[-7...  \n",
       "3  {'type': 'MultiPolygon', 'coordinates': [[[[-7...  \n",
       "4  {'type': 'MultiPolygon', 'coordinates': [[[[-7...  "
      ]
     },
     "execution_count": 10,
     "metadata": {},
     "output_type": "execute_result"
    }
   ],
   "source": [
    "census_df.head()"
   ]
  },
  {
   "cell_type": "code",
   "execution_count": 11,
   "id": "b33c18e6",
   "metadata": {},
   "outputs": [
    {
     "data": {
      "text/html": [
       "<div>\n",
       "<style scoped>\n",
       "    .dataframe tbody tr th:only-of-type {\n",
       "        vertical-align: middle;\n",
       "    }\n",
       "\n",
       "    .dataframe tbody tr th {\n",
       "        vertical-align: top;\n",
       "    }\n",
       "\n",
       "    .dataframe thead th {\n",
       "        text-align: right;\n",
       "    }\n",
       "</style>\n",
       "<table border=\"1\" class=\"dataframe\">\n",
       "  <thead>\n",
       "    <tr style=\"text-align: right;\">\n",
       "      <th></th>\n",
       "      <th>_id</th>\n",
       "      <th>type</th>\n",
       "      <th>id</th>\n",
       "      <th>geometry</th>\n",
       "      <th>properties</th>\n",
       "    </tr>\n",
       "  </thead>\n",
       "  <tbody>\n",
       "    <tr>\n",
       "      <th>0</th>\n",
       "      <td>66c524f0c3c751d1e06725c4</td>\n",
       "      <td>Feature</td>\n",
       "      <td>98878</td>\n",
       "      <td>{'type': 'Point', 'coordinates': [-79.38208824...</td>\n",
       "      <td>{'OBJECTID': 98878, 'EVENT_UNIQUE_ID': 'GO-201...</td>\n",
       "    </tr>\n",
       "    <tr>\n",
       "      <th>1</th>\n",
       "      <td>66c524f0c3c751d1e06725c5</td>\n",
       "      <td>Feature</td>\n",
       "      <td>98879</td>\n",
       "      <td>{'type': 'Point', 'coordinates': [-79.38208824...</td>\n",
       "      <td>{'OBJECTID': 98879, 'EVENT_UNIQUE_ID': 'GO-201...</td>\n",
       "    </tr>\n",
       "    <tr>\n",
       "      <th>2</th>\n",
       "      <td>66c524f0c3c751d1e06725c6</td>\n",
       "      <td>Feature</td>\n",
       "      <td>98881</td>\n",
       "      <td>{'type': 'Point', 'coordinates': [-79.35608913...</td>\n",
       "      <td>{'OBJECTID': 98881, 'EVENT_UNIQUE_ID': 'GO-201...</td>\n",
       "    </tr>\n",
       "    <tr>\n",
       "      <th>3</th>\n",
       "      <td>66c524f0c3c751d1e06725c7</td>\n",
       "      <td>Feature</td>\n",
       "      <td>98882</td>\n",
       "      <td>{'type': 'Point', 'coordinates': [-79.25620904...</td>\n",
       "      <td>{'OBJECTID': 98882, 'EVENT_UNIQUE_ID': 'GO-201...</td>\n",
       "    </tr>\n",
       "    <tr>\n",
       "      <th>4</th>\n",
       "      <td>66c524f0c3c751d1e06725c8</td>\n",
       "      <td>Feature</td>\n",
       "      <td>98883</td>\n",
       "      <td>{'type': 'Point', 'coordinates': [-79.36477315...</td>\n",
       "      <td>{'OBJECTID': 98883, 'EVENT_UNIQUE_ID': 'GO-201...</td>\n",
       "    </tr>\n",
       "  </tbody>\n",
       "</table>\n",
       "</div>"
      ],
      "text/plain": [
       "                        _id     type     id  \\\n",
       "0  66c524f0c3c751d1e06725c4  Feature  98878   \n",
       "1  66c524f0c3c751d1e06725c5  Feature  98879   \n",
       "2  66c524f0c3c751d1e06725c6  Feature  98881   \n",
       "3  66c524f0c3c751d1e06725c7  Feature  98882   \n",
       "4  66c524f0c3c751d1e06725c8  Feature  98883   \n",
       "\n",
       "                                            geometry  \\\n",
       "0  {'type': 'Point', 'coordinates': [-79.38208824...   \n",
       "1  {'type': 'Point', 'coordinates': [-79.38208824...   \n",
       "2  {'type': 'Point', 'coordinates': [-79.35608913...   \n",
       "3  {'type': 'Point', 'coordinates': [-79.25620904...   \n",
       "4  {'type': 'Point', 'coordinates': [-79.36477315...   \n",
       "\n",
       "                                          properties  \n",
       "0  {'OBJECTID': 98878, 'EVENT_UNIQUE_ID': 'GO-201...  \n",
       "1  {'OBJECTID': 98879, 'EVENT_UNIQUE_ID': 'GO-201...  \n",
       "2  {'OBJECTID': 98881, 'EVENT_UNIQUE_ID': 'GO-201...  \n",
       "3  {'OBJECTID': 98882, 'EVENT_UNIQUE_ID': 'GO-201...  \n",
       "4  {'OBJECTID': 98883, 'EVENT_UNIQUE_ID': 'GO-201...  "
      ]
     },
     "execution_count": 11,
     "metadata": {},
     "output_type": "execute_result"
    }
   ],
   "source": [
    "crime_df.head()"
   ]
  },
  {
   "cell_type": "code",
   "execution_count": 12,
   "id": "f0343be9",
   "metadata": {},
   "outputs": [
    {
     "name": "stdout",
     "output_type": "stream",
     "text": [
      "0   2017-01-01 05:00:00\n",
      "1   2017-01-01 05:00:00\n",
      "2   2017-01-01 05:00:00\n",
      "3   2017-01-01 05:00:00\n",
      "4   2017-01-01 05:00:00\n",
      "Name: OCC_DATE, dtype: datetime64[ns]\n"
     ]
    }
   ],
   "source": [
    "# Extract OCC_DATE from the properties dictionary\n",
    "crime_df['OCC_DATE'] = crime_df['properties'].apply(lambda x: x.get('OCC_DATE'))\n",
    "\n",
    "# Convert the extracted OCC_DATE to datetime\n",
    "crime_df['OCC_DATE'] = pd.to_datetime(crime_df['OCC_DATE'], unit='ms')\n",
    "\n",
    "# Now you can work with the OCC_DATE as a regular datetime column\n",
    "print(crime_df['OCC_DATE'].head())\n"
   ]
  },
  {
   "cell_type": "code",
   "execution_count": 13,
   "id": "5ea26a38",
   "metadata": {},
   "outputs": [],
   "source": [
    "# Extracting other fields from properties\n",
    "crime_df['OCC_YEAR'] = crime_df['properties'].apply(lambda x: x.get('OCC_YEAR'))\n",
    "crime_df['MCI_CATEGORY'] = crime_df['properties'].apply(lambda x: x.get('MCI_CATEGORY'))\n"
   ]
  },
  {
   "cell_type": "code",
   "execution_count": 14,
   "id": "956fcb4f",
   "metadata": {},
   "outputs": [
    {
     "name": "stdout",
     "output_type": "stream",
     "text": [
      "             OCC_DATE  OCC_YEAR MCI_CATEGORY\n",
      "0 2017-01-01 05:00:00      2017      Assault\n",
      "1 2017-01-01 05:00:00      2017      Assault\n",
      "2 2017-01-01 05:00:00      2017      Assault\n",
      "3 2017-01-01 05:00:00      2017      Assault\n",
      "4 2017-01-01 05:00:00      2017      Assault\n"
     ]
    }
   ],
   "source": [
    "# Checking the first few rows of the relevant columns\n",
    "print(crime_df[['OCC_DATE', 'OCC_YEAR', 'MCI_CATEGORY']].head())\n"
   ]
  },
  {
   "cell_type": "code",
   "execution_count": 15,
   "id": "46e711e2",
   "metadata": {},
   "outputs": [],
   "source": [
    "# Data cleansing and preprocessing"
   ]
  },
  {
   "cell_type": "code",
   "execution_count": 16,
   "id": "580a7d8c",
   "metadata": {},
   "outputs": [],
   "source": [
    "covid_df.isnull().sum()  # Checking for missing values\n",
    "crime_df.fillna('Unknown', inplace=True)  # filling missing values"
   ]
  },
  {
   "cell_type": "code",
   "execution_count": 17,
   "id": "beebe6a1",
   "metadata": {},
   "outputs": [],
   "source": [
    "covid_df['Reported Date'] = pd.to_datetime(covid_df['Reported Date'])\n",
    "crime_df['OCC_DATE'] = pd.to_datetime(crime_df['OCC_DATE'], unit='ms')"
   ]
  },
  {
   "cell_type": "code",
   "execution_count": 18,
   "id": "c61239e6",
   "metadata": {},
   "outputs": [],
   "source": [
    "#Filter data\n",
    "filtered_covid_df = covid_df[covid_df['Reported Date'] >= '2020-01-01']\n",
    "filtered_crime_df = crime_df[(crime_df['OCC_YEAR'] == 2020) & (crime_df['MCI_CATEGORY'] == 'Assault')]"
   ]
  },
  {
   "cell_type": "code",
   "execution_count": 19,
   "id": "ea71fd99",
   "metadata": {},
   "outputs": [
    {
     "data": {
      "text/plain": [
       "MCI_CATEGORY\n",
       "Assault            119569\n",
       "Break and Enter     41930\n",
       "Auto Theft          36114\n",
       "Robbery             19660\n",
       "Theft Over           7605\n",
       "Name: count, dtype: int64"
      ]
     },
     "execution_count": 19,
     "metadata": {},
     "output_type": "execute_result"
    }
   ],
   "source": [
    "# Descriptive Statistics\n",
    "covid_df.describe()\n",
    "crime_df['MCI_CATEGORY'].value_counts()"
   ]
  },
  {
   "cell_type": "code",
   "execution_count": 20,
   "id": "b0d8c532",
   "metadata": {},
   "outputs": [],
   "source": [
    "covid_grouped = covid_df.groupby('Neighbourhood Name').size()\n",
    "crime_grouped = crime_df.groupby(['OCC_YEAR', 'MCI_CATEGORY']).size().unstack()"
   ]
  },
  {
   "cell_type": "code",
   "execution_count": 21,
   "id": "7d1577c8",
   "metadata": {},
   "outputs": [
    {
     "data": {
      "text/plain": [
       "Neighbourhood Name\n",
       "                                13699\n",
       "Agincourt North                  3122\n",
       "Agincourt South-Malvern West     2768\n",
       "Alderwood                        1458\n",
       "Annex                            3871\n",
       "dtype: int64"
      ]
     },
     "execution_count": 21,
     "metadata": {},
     "output_type": "execute_result"
    }
   ],
   "source": [
    "covid_grouped.head()"
   ]
  },
  {
   "cell_type": "code",
   "execution_count": 22,
   "id": "888957a1",
   "metadata": {},
   "outputs": [
    {
     "data": {
      "text/html": [
       "<div>\n",
       "<style scoped>\n",
       "    .dataframe tbody tr th:only-of-type {\n",
       "        vertical-align: middle;\n",
       "    }\n",
       "\n",
       "    .dataframe tbody tr th {\n",
       "        vertical-align: top;\n",
       "    }\n",
       "\n",
       "    .dataframe thead th {\n",
       "        text-align: right;\n",
       "    }\n",
       "</style>\n",
       "<table border=\"1\" class=\"dataframe\">\n",
       "  <thead>\n",
       "    <tr style=\"text-align: right;\">\n",
       "      <th>MCI_CATEGORY</th>\n",
       "      <th>Assault</th>\n",
       "      <th>Auto Theft</th>\n",
       "      <th>Break and Enter</th>\n",
       "      <th>Robbery</th>\n",
       "      <th>Theft Over</th>\n",
       "    </tr>\n",
       "    <tr>\n",
       "      <th>OCC_YEAR</th>\n",
       "      <th></th>\n",
       "      <th></th>\n",
       "      <th></th>\n",
       "      <th></th>\n",
       "      <th></th>\n",
       "    </tr>\n",
       "  </thead>\n",
       "  <tbody>\n",
       "    <tr>\n",
       "      <th>2017</th>\n",
       "      <td>19692</td>\n",
       "      <td>3646</td>\n",
       "      <td>6932</td>\n",
       "      <td>4097</td>\n",
       "      <td>1188</td>\n",
       "    </tr>\n",
       "    <tr>\n",
       "      <th>2018</th>\n",
       "      <td>20055</td>\n",
       "      <td>4804</td>\n",
       "      <td>7654</td>\n",
       "      <td>3759</td>\n",
       "      <td>1289</td>\n",
       "    </tr>\n",
       "    <tr>\n",
       "      <th>2019</th>\n",
       "      <td>21086</td>\n",
       "      <td>5379</td>\n",
       "      <td>8573</td>\n",
       "      <td>3723</td>\n",
       "      <td>1374</td>\n",
       "    </tr>\n",
       "    <tr>\n",
       "      <th>2020</th>\n",
       "      <td>18409</td>\n",
       "      <td>5798</td>\n",
       "      <td>6963</td>\n",
       "      <td>2863</td>\n",
       "      <td>1212</td>\n",
       "    </tr>\n",
       "    <tr>\n",
       "      <th>2021</th>\n",
       "      <td>19118</td>\n",
       "      <td>6634</td>\n",
       "      <td>5724</td>\n",
       "      <td>2287</td>\n",
       "      <td>1090</td>\n",
       "    </tr>\n",
       "  </tbody>\n",
       "</table>\n",
       "</div>"
      ],
      "text/plain": [
       "MCI_CATEGORY  Assault  Auto Theft  Break and Enter  Robbery  Theft Over\n",
       "OCC_YEAR                                                               \n",
       "2017            19692        3646             6932     4097        1188\n",
       "2018            20055        4804             7654     3759        1289\n",
       "2019            21086        5379             8573     3723        1374\n",
       "2020            18409        5798             6963     2863        1212\n",
       "2021            19118        6634             5724     2287        1090"
      ]
     },
     "execution_count": 22,
     "metadata": {},
     "output_type": "execute_result"
    }
   ],
   "source": [
    "crime_grouped.head()"
   ]
  },
  {
   "cell_type": "code",
   "execution_count": 23,
   "id": "5b7478eb",
   "metadata": {},
   "outputs": [
    {
     "data": {
      "image/png": "[encoded data removed]",
      "text/plain": [
       "<Figure size 640x480 with 1 Axes>"
      ]
     },
     "metadata": {},
     "output_type": "display_data"
    }
   ],
   "source": [
    "crime_grouped.plot(kind='bar', stacked=True, title='Crimes by Category and Year')\n",
    "plt.show()\n"
   ]
  },
  {
   "cell_type": "code",
   "execution_count": 24,
   "id": "74a51399",
   "metadata": {},
   "outputs": [
    {
     "data": {
      "image/png": "[encoded data removed]",
      "text/plain": [
       "<Figure size 640x480 with 1 Axes>"
      ]
     },
     "metadata": {},
     "output_type": "display_data"
    }
   ],
   "source": [
    "covid_df.resample('M', on='Reported Date').size().plot(title='Monthly COVID-19 Cases')\n",
    "plt.show()\n"
   ]
  }
 ],
 "metadata": {
  "kernelspec": {
   "display_name": "Python 3 (ipykernel)",
   "language": "python",
   "name": "python3"
  },
  "language_info": {
   "codemirror_mode": {
    "name": "ipython",
    "version": 3
   },
   "file_extension": ".py",
   "mimetype": "text/x-python",
   "name": "python",
   "nbconvert_exporter": "python",
   "pygments_lexer": "ipython3",
   "version": "3.11.7"
  }
 },
 "nbformat": 4,
 "nbformat_minor": 5
}
